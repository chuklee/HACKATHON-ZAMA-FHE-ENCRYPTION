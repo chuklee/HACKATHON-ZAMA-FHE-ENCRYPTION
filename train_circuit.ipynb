{
 "cells": [
  {
   "cell_type": "code",
   "execution_count": 1,
   "metadata": {},
   "outputs": [
    {
     "name": "stderr",
     "output_type": "stream",
     "text": [
      "/Users/camilziane/.pyenv/versions/3.10.12/envs/hack_hf_zama/lib/python3.10/site-packages/tqdm/auto.py:21: TqdmWarning: IProgress not found. Please update jupyter and ipywidgets. See https://ipywidgets.readthedocs.io/en/stable/user_install.html\n",
      "  from .autonotebook import tqdm as notebook_tqdm\n"
     ]
    }
   ],
   "source": [
    "import numpy as np\n",
    "from sklearn.linear_model import LogisticRegression\n",
    "from preprocess import load_dataset, featurisation\n",
    "from sklearn.model_selection import train_test_split\n",
    "from concrete import fhe"
   ]
  },
  {
   "cell_type": "code",
   "execution_count": 2,
   "metadata": {},
   "outputs": [],
   "source": [
    "# from concrete import fhe\n",
    "\n",
    "# @fhe.compiler({\"counter\": \"encrypted\"})\n",
    "# def increment(counter):\n",
    "#    return (counter + 1) % 100\n",
    "\n",
    "# print(\"Compiling `increment` function\")\n",
    "# increment_fhe = increment.compile(list(range(0, 100)), composable=True)\n",
    "\n",
    "# print(\"Generating keyset ...\")\n",
    "# increment_fhe.keygen()\n",
    "\n",
    "# print(\"Encrypting the initial counter value\")\n",
    "# counter = 0\n",
    "# counter_enc = increment_fhe.encrypt(counter)\n",
    "\n",
    "# print(f\"| iteration || decrypted | cleartext |\")\n",
    "# for i in range(10):\n",
    "#     counter_enc = increment_fhe.run(counter_enc)\n",
    "#     counter = increment(counter)\n",
    "\n",
    "#     # For demo purpose; no decryption is needed.\n",
    "#     counter_dec = increment_fhe.decrypt(counter_enc)\n",
    "#     print(f\"|     {i}     || {counter_dec:<9} | {counter:<9} |\")"
   ]
  },
  {
   "cell_type": "code",
   "execution_count": 3,
   "metadata": {},
   "outputs": [],
   "source": [
    "# from concrete.ml.quantization import QuantizedArray\n",
    "# X_train.shape\n",
    "# X_train_q = QuantizedArray(8, X_train)\n",
    "# X_train_q.qvalues,\n",
    "# # np.max(X_train), np.min(X_train)"
   ]
  },
  {
   "cell_type": "code",
   "execution_count": 4,
   "metadata": {},
   "outputs": [
    {
     "name": "stdout",
     "output_type": "stream",
     "text": [
      "Accuracy: 0.9893617021276596\n",
      "Recall: 0.8333333333333333\n"
     ]
    }
   ],
   "source": [
    "embeddings, labels = load_dataset(\n",
    "    \"./data/lfw_people/George_HW_Bush\", cache=True)\n",
    "# embeddings = featurisation(embeddings)\n",
    "# standard scale the embeddings\n",
    "embeddings = (embeddings - np.mean(embeddings, axis=0)) / np.std(embeddings, axis=0)\n",
    "X_train, X_test, y_train, y_test = train_test_split(embeddings, labels, test_size=0.2, random_state=42)\n",
    "\n",
    "model = LogisticRegression(C=1/5)\n",
    "model.fit(X_train, y_train)\n",
    "\n",
    "score = model.score(X_test, y_test)\n",
    "print(f\"Accuracy: {score}\")\n",
    "# recall compute\n",
    "from sklearn.metrics import recall_score\n",
    "y_pred = model.predict(X_test)\n",
    "recall = recall_score(y_test, y_pred, average='macro')\n",
    "print(f\"Recall: {recall}\")"
   ]
  },
  {
   "cell_type": "code",
   "execution_count": 5,
   "metadata": {},
   "outputs": [
    {
     "data": {
      "text/plain": [
       "array([-7.28123411])"
      ]
     },
     "execution_count": 5,
     "metadata": {},
     "output_type": "execute_result"
    }
   ],
   "source": [
    "model.intercept_"
   ]
  },
  {
   "cell_type": "code",
   "execution_count": 6,
   "metadata": {},
   "outputs": [],
   "source": [
    "from concrete.ml.torch.compile import compile_torch_model\n",
    "import torch\n",
    "import torch.nn as nn\n",
    "\n",
    "class RegNet(nn.Module):\n",
    "    def __init__(self, b):\n",
    "        super().__init__()\n",
    "        self.b = nn.Parameter(torch.ones(1)*b)  \n",
    "    def forward(self, x): \n",
    "        X = x[:, :128]\n",
    "        W = x[:, 128:]\n",
    "        return ((X @ W.T + self.b) > 0).float()\n",
    "\n",
    "W = model.coef_\n",
    "b = model.intercept_.reshape(-1, 1)\n",
    "reg_net = RegNet(b)\n",
    "X_stacked = np.hstack([X_train[0].reshape(1,-1), W])"
   ]
  },
  {
   "cell_type": "code",
   "execution_count": 7,
   "metadata": {},
   "outputs": [],
   "source": [
    "nb_sample = 100\n",
    "X_train_rand = np.random.normal(0, 1, [nb_sample, X_train.shape[1]])\n",
    "W_rand = np.random.normal(0, 1, [nb_sample, W.shape[1]])\n",
    "X_rand_stack = np.hstack([X_train_rand, W_rand])"
   ]
  },
  {
   "cell_type": "code",
   "execution_count": 8,
   "metadata": {},
   "outputs": [],
   "source": [
    "quantized_module = compile_torch_model(\n",
    "    reg_net, # our model\n",
    "    X_rand_stack, # a representative input-set to be used for both quantization and compilation\n",
    "    n_bits=6,\n",
    "    rounding_threshold_bits={\"n_bits\": 6, \"method\": \"approximate\"}\n",
    ")"
   ]
  },
  {
   "cell_type": "code",
   "execution_count": 9,
   "metadata": {},
   "outputs": [],
   "source": [
    "# duplicate W and b to match the number of samples\n",
    "W_test = np.repeat(W, X_test.shape[0], axis=0)\n",
    "X_test_stacked = np.hstack([X_test, W_test])"
   ]
  },
  {
   "cell_type": "code",
   "execution_count": 10,
   "metadata": {},
   "outputs": [],
   "source": [
    "y_pred = quantized_module.forward(X_test_stacked, fhe=\"execute\")"
   ]
  }
 ],
 "metadata": {
  "kernelspec": {
   "display_name": "hack_hf_zama",
   "language": "python",
   "name": "python3"
  },
  "language_info": {
   "codemirror_mode": {
    "name": "ipython",
    "version": 3
   },
   "file_extension": ".py",
   "mimetype": "text/x-python",
   "name": "python",
   "nbconvert_exporter": "python",
   "pygments_lexer": "ipython3",
   "version": "3.10.12"
  }
 },
 "nbformat": 4,
 "nbformat_minor": 2
}
